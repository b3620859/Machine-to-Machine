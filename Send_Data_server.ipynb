{
 "cells": [
  {
   "cell_type": "markdown",
   "metadata": {},
   "source": [
    "[Sockets Tutorial with Python 3 part 2 - buffering and streaming data](https://pythonprogramming.net/buffering-streaming-data-sockets-tutorial-python-3/)\n",
    "[Python Socket網路程式設計（二）區域網內和區域網與廣域網的持續通訊](https://www.itread01.com/content/1541826445.html)\n",
    "[IT幫幫忙 Python_Socket](https://ithelp.ithome.com.tw/articles/10205819)"
   ]
  },
  {
   "cell_type": "code",
   "execution_count": 1,
   "metadata": {},
   "outputs": [
    {
     "name": "stdout",
     "output_type": "stream",
     "text": [
      "Dash is running on http://127.0.0.1:8050/\n",
      "\n",
      " Warning: This is a development server. Do not use app.run_server\n",
      " in production, use a production WSGI server like gunicorn instead.\n",
      "\n",
      " * Serving Flask app \"__main__\" (lazy loading)\n",
      " * Environment: production\n",
      "\u001b[31m   WARNING: This is a development server. Do not use it in a production deployment.\u001b[0m\n",
      "\u001b[2m   Use a production WSGI server instead.\u001b[0m\n",
      " * Debug mode: on\n"
     ]
    },
    {
     "ename": "SystemExit",
     "evalue": "1",
     "output_type": "error",
     "traceback": [
      "An exception has occurred, use %tb to see the full traceback.\n",
      "\u001b[0;31mSystemExit\u001b[0m\u001b[0;31m:\u001b[0m 1\n"
     ]
    },
    {
     "name": "stderr",
     "output_type": "stream",
     "text": [
      "/home/cslab/.virtualenvs/py36env/lib/python3.6/site-packages/IPython/core/interactiveshell.py:3327: UserWarning:\n",
      "\n",
      "To exit: use 'exit', 'quit', or Ctrl-D.\n",
      "\n"
     ]
    }
   ],
   "source": [
    "import dash\n",
    "import dash_core_components as dcc\n",
    "import dash_html_components as html\n",
    " \n",
    "app = dash.Dash()\n",
    " \n",
    "app.layout = html.Div('LinuxHint YouTube Hi')\n",
    " \n",
    "app.run_server(debug=True)"
   ]
  },
  {
   "cell_type": "code",
   "execution_count": null,
   "metadata": {},
   "outputs": [
    {
     "name": "stdout",
     "output_type": "stream",
     "text": [
      "Connection from ('127.0.0.1', 52110) has been established.\n",
      "30        The time is 1596564254.8886387\n",
      "30        The time is 1596564257.8918023\n",
      "30        The time is 1596564260.8930082\n"
     ]
    }
   ],
   "source": [
    "## 範例\n",
    "import socket\n",
    "import time\n",
    "\n",
    "HEADERSIZE = 10\n",
    "\n",
    "s = socket.socket(socket.AF_INET, socket.SOCK_STREAM)\n",
    "# s.bind((socket.gethostname(), 6688))\n",
    "s.bind(('140.134.29.21', 6688))\n",
    "\n",
    "s.listen(5)\n",
    "\n",
    "while True:\n",
    "    # now our endpoint knows about the OTHER endpoint.\n",
    "    clientsocket, address = s.accept()\n",
    "    print(f\"Connection from {address} has been established.\")\n",
    "    \n",
    "    msg = \"Welcome to the server!\"\n",
    "    msg = f\"{len(msg):<{HEADERSIZE}}\"+msg\n",
    "    \n",
    "    clientsocket.send(bytes(msg,\"utf-8\"))\n",
    "    while True:\n",
    "        time.sleep(3)\n",
    "        msg = f\"The time is {time.time()}\"\n",
    "        msg = f\"{len(msg):<{HEADERSIZE}}\"+msg\n",
    "\n",
    "        print(msg)\n",
    "\n",
    "        clientsocket.send(bytes(msg,\"utf-8\"))"
   ]
  },
  {
   "cell_type": "code",
   "execution_count": 3,
   "metadata": {},
   "outputs": [],
   "source": [
    "import socket\n",
    "import time\n",
    "\n",
    "HEADERSIZE = 10\n",
    "\n",
    "s = socket.socket(socket.AF_INET, socket.SOCK_STREAM)\n",
    "# s.bind((socket.gethostname(), 6688))\n",
    "s.bind(('140.134.29.25', 6688))\n",
    "s.listen(5)\n",
    "\n",
    "BUFFER_SIZE = 512  # Normally 1024, but we want fast response\n",
    "\n",
    "def process_data_from_client(x):\n",
    "    ax, ay, az = x.split(\" \")\n",
    "    return ax, ay, az\n",
    "\n",
    "\n",
    "\n",
    "while True:\n",
    "    # now our endpoint knows about the OTHER endpoint.\n",
    "    clientsocket, address = s.accept()\n",
    "    print(f\"Connection from {address} has been established.\")\n",
    "    \n",
    "    msg = \"Welcome to the server!\"\n",
    "    msg = f\"{len(msg):<{HEADERSIZE}}\"+msg\n",
    "    \n",
    "    clientsocket.send(bytes(msg,\"utf-8\"))\n",
    "    \n",
    "    while True:\n",
    "        mpudata = clientsocket.recv(BUFFER_SIZE).decode('utf-8')\n",
    "#         ax, ay, az = process_data_from_client(mpudata)\n",
    "#         print(ax, ay, az)\n",
    "        print(mpudata)\n",
    "        if not mpudata:\n",
    "            break\n",
    "        else:\n",
    "            pass\n",
    "# close socket\n",
    "s.close()\n",
    "#         print(\"Client recv data : % \"%mpudata)\n",
    "        \n",
    "#         mpudata_ay = clientsocket.recv(BUFFER_SIZE)\n",
    "#         print(\"Client recv ay data : % \"%mpudata_ay)\n",
    "#         print(mpudata_ay)\n",
    "        \n",
    "#         mpudata_az = clientsocket.recv(BUFFER_SIZE)\n",
    "#         print(\"Client recv az data : % \"%mpudata_az)\n",
    "#         print(mpudata_az)\n",
    "        "
   ]
  },
  {
   "cell_type": "code",
   "execution_count": 1,
   "metadata": {},
   "outputs": [
    {
     "name": "stdout",
     "output_type": "stream",
     "text": [
      "Connection from ('140.134.29.25', 43398) has been established.\n",
      "-0.508 0.193 -0.547 29.674\n",
      "\n",
      "-0.136 0.782 0.865 29.530\n",
      "-0.051 0.819 1.011 29.722\n",
      "-0.366 0.013 0.246 29.674\n",
      "-0.510 -0.240 0.492 30.009\n",
      "-0.499 -0.113 1.983 29.866\n",
      "\n",
      "-0.257 -0.060 1.470 29.626\n",
      "-0.455 -0.086 0.589 29.674\n",
      "-0.161 -0.131 0.555 29.674\n",
      "-0.113 -0.240 1.189 29.674\n",
      "-0.278 -0.008 1.620 29.722\n",
      "-0.638 -0.382 1.361 29.818\n",
      "-0.438 -0.350 1.440 29.530\n",
      "-0.096 0.250 1.430 29.866\n",
      "0.124 0.114 0.589 29.626\n",
      "-0.273 0.398 0.027 29.722\n",
      "0.131 0.667 1.043 29.818\n",
      "0.120 0.437 1.061 29.626\n",
      "-0.253 0.386 0.363 29.722\n",
      "-0.179 0.217 0.247 29.626\n",
      "-0.052 -0.007 1.695 29.866\n",
      "0.384 0.048 1.399 29.866\n",
      "0.176 0.289 0.628 29.722\n",
      "0.333 0.220 0.149 29.626\n",
      "0.303 0.303 0.900 29.674\n",
      "0.658 0.321 1.561\n",
      " 29.626\n",
      "0.081 -0.459 0.897 29.722\n",
      "0.666 0.006 0.702 29.626\n",
      "0.231 -0.958 1.960 29.722\n",
      "0.207 -0.399 2.152 29.674\n",
      "0.271 -0.490 1.435 29.722\n",
      "\n",
      "4.034 -1.038 0.607 29.674\n",
      "2.154 -1.942 0.703 29.818\n",
      "-1.957 -1.024 1.189 29.818\n",
      "-2.391 -1.017 1.776 29.626\n",
      "-1.554 -1.721 0.458 29.626\n",
      "-1.159 0.710 0.407 29.818\n",
      "-0.065 0.015 0.541 29.866\n",
      "0.036 1.118 -0.113 29.722\n",
      "0.817 0.555 0.350 29.626\n",
      "1.332 0.329 1.214 29.818\n",
      "0.216 -0.084 0.827 29.530\n",
      "0.557 -1.254 0.650 29.722\n",
      "0.741 -0.159 1.753 29.530\n",
      "0.324 -0.172 1.890 29.818\n",
      "0.402 -0.707 0.770 29.818\n",
      "\n"
     ]
    },
    {
     "ename": "ConnectionResetError",
     "evalue": "[Errno 104] Connection reset by peer",
     "output_type": "error",
     "traceback": [
      "\u001b[0;31m---------------------------------------------------------------------------\u001b[0m",
      "\u001b[0;31mConnectionResetError\u001b[0m                      Traceback (most recent call last)",
      "\u001b[0;32m<ipython-input-1-13e71382a573>\u001b[0m in \u001b[0;36m<module>\u001b[0;34m\u001b[0m\n\u001b[1;32m     28\u001b[0m \u001b[0;34m\u001b[0m\u001b[0m\n\u001b[1;32m     29\u001b[0m     \u001b[0;32mwhile\u001b[0m \u001b[0;32mTrue\u001b[0m\u001b[0;34m:\u001b[0m\u001b[0;34m\u001b[0m\u001b[0;34m\u001b[0m\u001b[0m\n\u001b[0;32m---> 30\u001b[0;31m         \u001b[0mmpudata\u001b[0m \u001b[0;34m=\u001b[0m \u001b[0mclientsocket\u001b[0m\u001b[0;34m.\u001b[0m\u001b[0mrecv\u001b[0m\u001b[0;34m(\u001b[0m\u001b[0mBUFFER_SIZE\u001b[0m\u001b[0;34m)\u001b[0m\u001b[0;34m.\u001b[0m\u001b[0mdecode\u001b[0m\u001b[0;34m(\u001b[0m\u001b[0;34m'utf-8'\u001b[0m\u001b[0;34m)\u001b[0m\u001b[0;34m\u001b[0m\u001b[0;34m\u001b[0m\u001b[0m\n\u001b[0m\u001b[1;32m     31\u001b[0m \u001b[0;31m#         ax, ay, az = process_data_from_client(mpudata)\u001b[0m\u001b[0;34m\u001b[0m\u001b[0;34m\u001b[0m\u001b[0;34m\u001b[0m\u001b[0m\n\u001b[1;32m     32\u001b[0m \u001b[0;31m#         print(ax, ay, az)\u001b[0m\u001b[0;34m\u001b[0m\u001b[0;34m\u001b[0m\u001b[0;34m\u001b[0m\u001b[0m\n",
      "\u001b[0;31mConnectionResetError\u001b[0m: [Errno 104] Connection reset by peer"
     ]
    }
   ],
   "source": [
    "import socket\n",
    "import time\n",
    "\n",
    "HEADERSIZE = 10\n",
    "\n",
    "s = socket.socket(socket.AF_INET, socket.SOCK_STREAM)\n",
    "# s.bind((socket.gethostname(), 6688))\n",
    "s.bind(('140.134.29.25', 6688))\n",
    "s.listen(5)\n",
    "\n",
    "BUFFER_SIZE = 512  # Normally 1024, but we want fast response\n",
    "\n",
    "def process_data_from_client(x):\n",
    "    ax, ay, az = x.split(\" \")\n",
    "    return ax, ay, az\n",
    "\n",
    "\n",
    "\n",
    "while True:\n",
    "    # now our endpoint knows about the OTHER endpoint.\n",
    "    clientsocket, address = s.accept()\n",
    "    print(f\"Connection from {address} has been established.\")\n",
    "    \n",
    "    msg = \"Welcome to the server!\"\n",
    "    msg = f\"{len(msg):<{HEADERSIZE}}\"+msg\n",
    "    \n",
    "    clientsocket.send(bytes(msg,\"utf-8\"))\n",
    "    \n",
    "    while True:\n",
    "        mpudata = clientsocket.recv(BUFFER_SIZE).decode('utf-8')\n",
    "#         ax, ay, az = process_data_from_client(mpudata)\n",
    "#         print(ax, ay, az)\n",
    "        print(mpudata)\n",
    "        if not mpudata:\n",
    "            break\n",
    "        else:\n",
    "            pass\n",
    "# close socket\n",
    "s.close()"
   ]
  },
  {
   "cell_type": "code",
   "execution_count": null,
   "metadata": {},
   "outputs": [],
   "source": []
  },
  {
   "cell_type": "code",
   "execution_count": null,
   "metadata": {},
   "outputs": [],
   "source": []
  }
 ],
 "metadata": {
  "kernelspec": {
   "display_name": "Python 3",
   "language": "python",
   "name": "python3"
  },
  "language_info": {
   "codemirror_mode": {
    "name": "ipython",
    "version": 3
   },
   "file_extension": ".py",
   "mimetype": "text/x-python",
   "name": "python",
   "nbconvert_exporter": "python",
   "pygments_lexer": "ipython3",
   "version": "3.8.5"
  }
 },
 "nbformat": 4,
 "nbformat_minor": 4
}
