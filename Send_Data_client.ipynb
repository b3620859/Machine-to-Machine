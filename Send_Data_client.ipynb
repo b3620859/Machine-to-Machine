{
 "cells": [
  {
   "cell_type": "markdown",
   "metadata": {},
   "source": [
    "[Sockets Tutorial with Python 3 part 2 - buffering and streaming data](https://pythonprogramming.net/buffering-streaming-data-sockets-tutorial-python-3/)\n",
    "[Python Socket網路程式設計（二）區域網內和區域網與廣域網的持續通訊](https://www.itread01.com/content/1541826445.html)"
   ]
  },
  {
   "cell_type": "code",
   "execution_count": 1,
   "metadata": {},
   "outputs": [],
   "source": [
    "## 範例\n",
    "import socket\n",
    "\n",
    "HEADERSIZE = 10\n",
    "\n",
    "s = socket.socket(socket.AF_INET, socket.SOCK_STREAM)\n",
    "# s.connect((socket.gethostname(), 1241))\n",
    "s.connect(('140.134.29.21', 6688))\n",
    "\n",
    "while True:\n",
    "    full_msg = ''\n",
    "    new_msg = True\n",
    "    while True:\n",
    "        msg = s.recv(1024)\n",
    "        if new_msg:\n",
    "            print(\"new msg len:\",msg[:HEADERSIZE])\n",
    "            msglen = int(msg[:HEADERSIZE])\n",
    "            new_msg = False\n",
    "\n",
    "        print(f\"full message length: {msglen}\")\n",
    "\n",
    "        full_msg += msg.decode(\"utf-8\")\n",
    "\n",
    "        print(len(full_msg))\n",
    "\n",
    "\n",
    "        if len(full_msg)-HEADERSIZE == msglen:\n",
    "            print(\"full msg recvd\")\n",
    "            print(full_msg[HEADERSIZE:])\n",
    "            new_msg = True\n",
    "            full_msg = \"\""
   ]
  },
  {
   "cell_type": "code",
   "execution_count": null,
   "metadata": {},
   "outputs": [],
   "source": [
    "import socket\n",
    "\n",
    "HEADERSIZE = 10\n",
    "\n",
    "s = socket.socket(socket.AF_INET, socket.SOCK_STREAM)\n",
    "# s.connect((socket.gethostname(), 1241))\n",
    "s.connect(('140.134.29.21', 6688))\n",
    "\n",
    "BUFFER_SIZE = 1024"
   ]
  },
  {
   "cell_type": "code",
   "execution_count": null,
   "metadata": {},
   "outputs": [],
   "source": [
    "import socket\n",
    "\n",
    "HEADERSIZE = 10\n",
    "\n",
    "s = socket.socket(socket.AF_INET, socket.SOCK_STREAM)\n",
    "# s.connect((socket.gethostname(), 1241))\n",
    "s.connect(('140.134.29.25', 6688))\n",
    "\n",
    "BUFFER_SIZE = 1024\n",
    "\n",
    "file = open('/home/cslab/Desktop/machine_sensor_data/sensor_test.txt', 'r')\n",
    "data = file.readline()\n",
    "\n",
    "while data:\n",
    "    s.send(data.encode())\n",
    "    data = file.readline()\n",
    "print(\"close connection!\")\n",
    "s.close()\n"
   ]
  },
  {
   "cell_type": "code",
   "execution_count": null,
   "metadata": {},
   "outputs": [],
   "source": []
  }
 ],
 "metadata": {
  "kernelspec": {
   "display_name": "Python 3",
   "language": "python",
   "name": "python3"
  },
  "language_info": {
   "codemirror_mode": {
    "name": "ipython",
    "version": 3
   },
   "file_extension": ".py",
   "mimetype": "text/x-python",
   "name": "python",
   "nbconvert_exporter": "python",
   "pygments_lexer": "ipython3",
   "version": "3.8.5"
  }
 },
 "nbformat": 4,
 "nbformat_minor": 4
}
