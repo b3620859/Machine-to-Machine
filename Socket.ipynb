{
 "cells": [
  {
   "cell_type": "code",
   "execution_count": null,
   "metadata": {},
   "outputs": [],
   "source": [
    "## Server\n",
    "import socket\n",
    "import time\n",
    "\n",
    "HEADERSIZE = 10\n",
    "\n",
    "s = socket.socket(socket.AF_INET, socket.SOCK_STREAM)\n",
    "# s.bind((socket.gethostname(), 6688))\n",
    "s.bind(('140.134.29.25', 6688))\n",
    "s.listen(5)\n",
    "\n",
    "BUFFER_SIZE = 512  # Normally 1024, but we want fast response\n",
    "\n",
    "def process_data_from_client(x):\n",
    "    ax, ay, az = x.split(\" \")\n",
    "    return ax, ay, az\n",
    "\n",
    "\n",
    "\n",
    "while True:\n",
    "    # now our endpoint knows about the OTHER endpoint.\n",
    "    clientsocket, address = s.accept()\n",
    "    print(f\"Connection from {address} has been established.\")\n",
    "    \n",
    "    msg = \"Welcome to the server!\"\n",
    "    msg = f\"{len(msg):<{HEADERSIZE}}\"+msg\n",
    "    \n",
    "    clientsocket.send(bytes(msg,\"utf-8\"))\n",
    "    \n",
    "    while True:\n",
    "        mpudata = clientsocket.recv(BUFFER_SIZE).decode('utf-8')\n",
    "#         ax, ay, az = process_data_from_client(mpudata)\n",
    "#         print(ax, ay, az)\n",
    "        print(mpudata)\n",
    "        if not mpudata:\n",
    "            break\n",
    "        else:\n",
    "            pass\n",
    "# close socket\n",
    "s.close()"
   ]
  },
  {
   "cell_type": "code",
   "execution_count": null,
   "metadata": {},
   "outputs": [],
   "source": [
    "## Client\n",
    "import socket\n",
    "\n",
    "HEADERSIZE = 10\n",
    "\n",
    "s = socket.socket(socket.AF_INET, socket.SOCK_STREAM)\n",
    "# s.connect((socket.gethostname(), 1241))\n",
    "s.connect(('140.134.29.25', 6688))\n",
    "\n",
    "BUFFER_SIZE = 1024\n",
    "\n",
    "file = open('/home/cslab/Desktop/machine_sensor_data/sensor_test.txt', 'r')\n",
    "data = file.readline()\n",
    "\n",
    "while data:\n",
    "    s.send(data.encode())\n",
    "    data = file.readline()\n",
    "print(\"close connection!\")\n",
    "s.close()\n"
   ]
  }
 ],
 "metadata": {
  "kernelspec": {
   "display_name": "Python 3",
   "language": "python",
   "name": "python3"
  },
  "language_info": {
   "codemirror_mode": {
    "name": "ipython",
    "version": 3
   },
   "file_extension": ".py",
   "mimetype": "text/x-python",
   "name": "python",
   "nbconvert_exporter": "python",
   "pygments_lexer": "ipython3",
   "version": "3.8.5"
  }
 },
 "nbformat": 4,
 "nbformat_minor": 4
}
